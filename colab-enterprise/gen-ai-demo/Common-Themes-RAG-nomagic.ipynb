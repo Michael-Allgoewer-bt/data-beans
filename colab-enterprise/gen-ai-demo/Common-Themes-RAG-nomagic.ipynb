{
  "cells": [
    {
      "cell_type": "code",
      "execution_count": 31,
      "metadata": {
        "id": "xTDKwnuNDbZf",
        "executionInfo": {
          "status": "ok",
          "timestamp": 1717405475960,
          "user_tz": -120,
          "elapsed": 204,
          "user": {
            "displayName": "",
            "userId": ""
          }
        }
      },
      "outputs": [],
      "source": [
        "##################################################################################\n",
        "# Copyright 2024 Google LLC\n",
        "#\n",
        "# Licensed under the Apache License, Version 2.0 (the \"License\");\n",
        "# you may not use this file except in compliance with the License.\n",
        "# You may obtain a copy of the License at\n",
        "#\n",
        "#     https://www.apache.org/licenses/LICENSE-2.0\n",
        "#\n",
        "# Unless required by applicable law or agreed to in writing, software\n",
        "# distributed under the License is distributed on an \"AS IS\" BASIS,\n",
        "# WITHOUT WARRANTIES OR CONDITIONS OF ANY KIND, either express or implied.\n",
        "# See the License for the specific language governing permissions and\n",
        "# limitations under the License.\n",
        "###################################################################################"
      ]
    },
    {
      "cell_type": "markdown",
      "metadata": {
        "id": "GkXBaE31DgGz"
      },
      "source": [
        "# Data beans common themes using RAG (retrieval augmented generation)\n",
        "\n",
        "This notebook shows how to implement a RAG procedure inside BigQuery to extract common review themes by product name, it performs the following steps:\n",
        "- Create LLM and embeddings models (`gemini-pro` and `gecko`)\n",
        "- Embbed the `review_text` column of the `customer_review` table\n",
        "- Create an index on the embeddings for faster retrieval\n",
        "- Wraps inside a BigQuery procedure a RAG implementation"
      ]
    },
    {
      "cell_type": "code",
      "execution_count": 32,
      "metadata": {
        "id": "FyRsxdqVp1dC",
        "executionInfo": {
          "status": "ok",
          "timestamp": 1717405478105,
          "user_tz": -120,
          "elapsed": 225,
          "user": {
            "displayName": "",
            "userId": ""
          }
        }
      },
      "outputs": [],
      "source": [
        "PROJECT_ID = \"bt-int-wod-masterclass-c3f3\"\n",
        "REGION = \"EU\"\n",
        "DATASET_ID = \"data_beans_curated\"\n",
        "CONNECTION_NAME = \"vertex-ai\""
      ]
    },
    {
      "cell_type": "code",
      "source": [
        "from google.cloud import bigquery\n",
        "\n",
        "client = bigquery.Client(project=PROJECT_ID, location=REGION)"
      ],
      "metadata": {
        "id": "16tS4p5P_uix",
        "executionInfo": {
          "status": "ok",
          "timestamp": 1717405482271,
          "user_tz": -120,
          "elapsed": 230,
          "user": {
            "displayName": "",
            "userId": ""
          }
        }
      },
      "execution_count": 33,
      "outputs": []
    },
    {
      "cell_type": "code",
      "execution_count": 34,
      "metadata": {
        "id": "qysuJw2zDR2P",
        "colab": {
          "base_uri": "https://localhost:8080/"
        },
        "executionInfo": {
          "status": "ok",
          "timestamp": 1717405512855,
          "user_tz": -120,
          "elapsed": 6320,
          "user": {
            "displayName": "",
            "userId": ""
          }
        },
        "outputId": "91673295-7700-45e3-ac83-7026854f9a84"
      },
      "outputs": [
        {
          "output_type": "execute_result",
          "data": {
            "text/plain": [
              "<google.cloud.bigquery.table._EmptyRowIterator at 0x79f777e501f0>"
            ]
          },
          "metadata": {},
          "execution_count": 34
        }
      ],
      "source": [
        "client.query(f\"CREATE SCHEMA IF NOT EXISTS `{PROJECT_ID}.{DATASET_ID}_local` OPTIONS(location = 'EU');\").result()\n",
        "\n",
        "client.query(\n",
        "   f\"\"\"CREATE OR REPLACE MODEL `{PROJECT_ID}.{DATASET_ID}_local.emb_model`\n",
        "      REMOTE WITH CONNECTION `{REGION}.{CONNECTION_NAME}`\n",
        "      OPTIONS(ENDPOINT = 'textembedding-gecko@latest');\"\"\"\n",
        " ).result()\n",
        "\n",
        "client.query(\n",
        "    f\"\"\"CREATE OR REPLACE MODEL `{PROJECT_ID}.{DATASET_ID}_local.llm_model`\n",
        "       REMOTE WITH CONNECTION `{REGION}.{CONNECTION_NAME}`\n",
        "       OPTIONS(ENDPOINT = 'gemini-pro');\n",
        "\"\"\").result()"
      ]
    },
    {
      "cell_type": "code",
      "source": [
        "client.query(\n",
        "    f\"\"\"select review_text as content from `{PROJECT_ID}.{DATASET_ID}.customer_review`\"\"\"\n",
        ").result().to_dataframe()"
      ],
      "metadata": {
        "id": "Kel3k_xyDDaU"
      },
      "execution_count": null,
      "outputs": []
    },
    {
      "cell_type": "markdown",
      "metadata": {
        "id": "tHr461ArEs8O"
      },
      "source": [
        "Create table with embeddings"
      ]
    },
    {
      "cell_type": "code",
      "execution_count": null,
      "metadata": {
        "id": "WqoUaWO4EU0-"
      },
      "outputs": [],
      "source": [
        "client.query(\n",
        "    f\"\"\"CREATE OR REPLACE TABLE `{PROJECT_ID}.{DATASET_ID}_local.customer_review_embedded`\n",
        "        as\n",
        "        SELECT *\n",
        "        FROM\n",
        "          ML.GENERATE_TEXT_EMBEDDING(\n",
        "            MODEL `{PROJECT_ID}.{DATASET_ID}_local.emb_model`,\n",
        "            (select review_text as content from `{PROJECT_ID}.{DATASET_ID}.customer_review`)\n",
        "        );\"\"\"\n",
        ").result()"
      ]
    },
    {
      "cell_type": "code",
      "source": [
        "client.query(\n",
        "    f\"\"\"CREATE OR REPLACE TABLE `{PROJECT_ID}.{DATASET_ID}_local.customer_review_embedded_laurenz`\n",
        "        as\n",
        "        SELECT row_number() over () as rowid\n",
        "             , cre.*\n",
        "        FROM `{PROJECT_ID}.{DATASET_ID}_local.customer_review_embedded` cre\n",
        "        WHERE ml_embed_text_status = \"\"; -- use only rows without errors\n",
        "        \"\"\"\n",
        ").result()"
      ],
      "metadata": {
        "id": "r7QwB1QiBqk1",
        "executionInfo": {
          "status": "aborted",
          "timestamp": 1717400913473,
          "user_tz": -120,
          "elapsed": 7,
          "user": {
            "displayName": "",
            "userId": ""
          }
        }
      },
      "execution_count": null,
      "outputs": []
    },
    {
      "cell_type": "code",
      "source": [
        "client.query(\n",
        "    f\"\"\"select * from `{PROJECT_ID}.{DATASET_ID}_local.customer_review_embedded`\"\"\"\n",
        ").result().to_dataframe()"
      ],
      "metadata": {
        "colab": {
          "base_uri": "https://localhost:8080/",
          "height": 424
        },
        "id": "SRzMmUmJEx0U",
        "executionInfo": {
          "status": "ok",
          "timestamp": 1717405665220,
          "user_tz": -120,
          "elapsed": 6642,
          "user": {
            "displayName": "",
            "userId": ""
          }
        },
        "outputId": "573f3c42-c25a-4f97-eed3-b6ef7a896d6e"
      },
      "execution_count": 36,
      "outputs": [
        {
          "output_type": "execute_result",
          "data": {
            "text/plain": [
              "                                         text_embedding  \\\n",
              "0     [-0.005726990289986134, -0.056526798754930496,...   \n",
              "1     [0.0074938093312084675, -0.071085624396801, -0...   \n",
              "2     [-0.005726990289986134, -0.056526798754930496,...   \n",
              "3     [-0.008162016980350018, -0.03362084552645683, ...   \n",
              "4     [0.005998166743665934, -0.051547858864068985, ...   \n",
              "...                                                 ...   \n",
              "7999  [0.04008382931351662, -0.01864839531481266, -0...   \n",
              "8000  [0.04008382931351662, -0.01864839531481266, -0...   \n",
              "8001  [0.04008382931351662, -0.01864839531481266, -0...   \n",
              "8002  [0.04008382931351662, -0.01864839531481266, -0...   \n",
              "8003  [0.04008382931351662, -0.01864839531481266, -0...   \n",
              "\n",
              "                                statistics ml_embed_text_status  \\\n",
              "0      {\"token_count\":1,\"truncated\":false}                        \n",
              "1      {\"token_count\":1,\"truncated\":false}                        \n",
              "2      {\"token_count\":1,\"truncated\":false}                        \n",
              "3      {\"token_count\":1,\"truncated\":false}                        \n",
              "4      {\"token_count\":1,\"truncated\":false}                        \n",
              "...                                    ...                  ...   \n",
              "7999  {\"token_count\":37,\"truncated\":false}                        \n",
              "8000  {\"token_count\":37,\"truncated\":false}                        \n",
              "8001  {\"token_count\":37,\"truncated\":false}                        \n",
              "8002  {\"token_count\":37,\"truncated\":false}                        \n",
              "8003  {\"token_count\":37,\"truncated\":false}                        \n",
              "\n",
              "                                                content  \n",
              "0                                                  good  \n",
              "1                                                  Good  \n",
              "2                                                  good  \n",
              "3                                                  Nice  \n",
              "4                                                 Great  \n",
              "...                                                 ...  \n",
              "7999  I had a great experience at this coffee truck....  \n",
              "8000  I had a great experience at this coffee truck....  \n",
              "8001  I had a great experience at this coffee truck....  \n",
              "8002  I had a great experience at this coffee truck....  \n",
              "8003  I had a great experience at this coffee truck....  \n",
              "\n",
              "[8004 rows x 4 columns]"
            ],
            "text/html": [
              "\n",
              "  <div id=\"df-ec522970-b6e5-4eb9-9f90-99685103321f\" class=\"colab-df-container\">\n",
              "    <div>\n",
              "<style scoped>\n",
              "    .dataframe tbody tr th:only-of-type {\n",
              "        vertical-align: middle;\n",
              "    }\n",
              "\n",
              "    .dataframe tbody tr th {\n",
              "        vertical-align: top;\n",
              "    }\n",
              "\n",
              "    .dataframe thead th {\n",
              "        text-align: right;\n",
              "    }\n",
              "</style>\n",
              "<table border=\"1\" class=\"dataframe\">\n",
              "  <thead>\n",
              "    <tr style=\"text-align: right;\">\n",
              "      <th></th>\n",
              "      <th>text_embedding</th>\n",
              "      <th>statistics</th>\n",
              "      <th>ml_embed_text_status</th>\n",
              "      <th>content</th>\n",
              "    </tr>\n",
              "  </thead>\n",
              "  <tbody>\n",
              "    <tr>\n",
              "      <th>0</th>\n",
              "      <td>[-0.005726990289986134, -0.056526798754930496,...</td>\n",
              "      <td>{\"token_count\":1,\"truncated\":false}</td>\n",
              "      <td></td>\n",
              "      <td>good</td>\n",
              "    </tr>\n",
              "    <tr>\n",
              "      <th>1</th>\n",
              "      <td>[0.0074938093312084675, -0.071085624396801, -0...</td>\n",
              "      <td>{\"token_count\":1,\"truncated\":false}</td>\n",
              "      <td></td>\n",
              "      <td>Good</td>\n",
              "    </tr>\n",
              "    <tr>\n",
              "      <th>2</th>\n",
              "      <td>[-0.005726990289986134, -0.056526798754930496,...</td>\n",
              "      <td>{\"token_count\":1,\"truncated\":false}</td>\n",
              "      <td></td>\n",
              "      <td>good</td>\n",
              "    </tr>\n",
              "    <tr>\n",
              "      <th>3</th>\n",
              "      <td>[-0.008162016980350018, -0.03362084552645683, ...</td>\n",
              "      <td>{\"token_count\":1,\"truncated\":false}</td>\n",
              "      <td></td>\n",
              "      <td>Nice</td>\n",
              "    </tr>\n",
              "    <tr>\n",
              "      <th>4</th>\n",
              "      <td>[0.005998166743665934, -0.051547858864068985, ...</td>\n",
              "      <td>{\"token_count\":1,\"truncated\":false}</td>\n",
              "      <td></td>\n",
              "      <td>Great</td>\n",
              "    </tr>\n",
              "    <tr>\n",
              "      <th>...</th>\n",
              "      <td>...</td>\n",
              "      <td>...</td>\n",
              "      <td>...</td>\n",
              "      <td>...</td>\n",
              "    </tr>\n",
              "    <tr>\n",
              "      <th>7999</th>\n",
              "      <td>[0.04008382931351662, -0.01864839531481266, -0...</td>\n",
              "      <td>{\"token_count\":37,\"truncated\":false}</td>\n",
              "      <td></td>\n",
              "      <td>I had a great experience at this coffee truck....</td>\n",
              "    </tr>\n",
              "    <tr>\n",
              "      <th>8000</th>\n",
              "      <td>[0.04008382931351662, -0.01864839531481266, -0...</td>\n",
              "      <td>{\"token_count\":37,\"truncated\":false}</td>\n",
              "      <td></td>\n",
              "      <td>I had a great experience at this coffee truck....</td>\n",
              "    </tr>\n",
              "    <tr>\n",
              "      <th>8001</th>\n",
              "      <td>[0.04008382931351662, -0.01864839531481266, -0...</td>\n",
              "      <td>{\"token_count\":37,\"truncated\":false}</td>\n",
              "      <td></td>\n",
              "      <td>I had a great experience at this coffee truck....</td>\n",
              "    </tr>\n",
              "    <tr>\n",
              "      <th>8002</th>\n",
              "      <td>[0.04008382931351662, -0.01864839531481266, -0...</td>\n",
              "      <td>{\"token_count\":37,\"truncated\":false}</td>\n",
              "      <td></td>\n",
              "      <td>I had a great experience at this coffee truck....</td>\n",
              "    </tr>\n",
              "    <tr>\n",
              "      <th>8003</th>\n",
              "      <td>[0.04008382931351662, -0.01864839531481266, -0...</td>\n",
              "      <td>{\"token_count\":37,\"truncated\":false}</td>\n",
              "      <td></td>\n",
              "      <td>I had a great experience at this coffee truck....</td>\n",
              "    </tr>\n",
              "  </tbody>\n",
              "</table>\n",
              "<p>8004 rows × 4 columns</p>\n",
              "</div>\n",
              "    <div class=\"colab-df-buttons\">\n",
              "\n",
              "  <div class=\"colab-df-container\">\n",
              "    <button class=\"colab-df-convert\" onclick=\"convertToInteractive('df-ec522970-b6e5-4eb9-9f90-99685103321f')\"\n",
              "            title=\"Convert this dataframe to an interactive table.\"\n",
              "            style=\"display:none;\">\n",
              "\n",
              "  <svg xmlns=\"http://www.w3.org/2000/svg\" height=\"24px\" viewBox=\"0 -960 960 960\">\n",
              "    <path d=\"M120-120v-720h720v720H120Zm60-500h600v-160H180v160Zm220 220h160v-160H400v160Zm0 220h160v-160H400v160ZM180-400h160v-160H180v160Zm440 0h160v-160H620v160ZM180-180h160v-160H180v160Zm440 0h160v-160H620v160Z\"/>\n",
              "  </svg>\n",
              "    </button>\n",
              "\n",
              "  <style>\n",
              "    .colab-df-container {\n",
              "      display:flex;\n",
              "      gap: 12px;\n",
              "    }\n",
              "\n",
              "    .colab-df-convert {\n",
              "      background-color: #E8F0FE;\n",
              "      border: none;\n",
              "      border-radius: 50%;\n",
              "      cursor: pointer;\n",
              "      display: none;\n",
              "      fill: #1967D2;\n",
              "      height: 32px;\n",
              "      padding: 0 0 0 0;\n",
              "      width: 32px;\n",
              "    }\n",
              "\n",
              "    .colab-df-convert:hover {\n",
              "      background-color: #E2EBFA;\n",
              "      box-shadow: 0px 1px 2px rgba(60, 64, 67, 0.3), 0px 1px 3px 1px rgba(60, 64, 67, 0.15);\n",
              "      fill: #174EA6;\n",
              "    }\n",
              "\n",
              "    .colab-df-buttons div {\n",
              "      margin-bottom: 4px;\n",
              "    }\n",
              "\n",
              "    [theme=dark] .colab-df-convert {\n",
              "      background-color: #3B4455;\n",
              "      fill: #D2E3FC;\n",
              "    }\n",
              "\n",
              "    [theme=dark] .colab-df-convert:hover {\n",
              "      background-color: #434B5C;\n",
              "      box-shadow: 0px 1px 3px 1px rgba(0, 0, 0, 0.15);\n",
              "      filter: drop-shadow(0px 1px 2px rgba(0, 0, 0, 0.3));\n",
              "      fill: #FFFFFF;\n",
              "    }\n",
              "  </style>\n",
              "\n",
              "    <script>\n",
              "      const buttonEl =\n",
              "        document.querySelector('#df-ec522970-b6e5-4eb9-9f90-99685103321f button.colab-df-convert');\n",
              "      buttonEl.style.display =\n",
              "        google.colab.kernel.accessAllowed ? 'block' : 'none';\n",
              "\n",
              "      async function convertToInteractive(key) {\n",
              "        const element = document.querySelector('#df-ec522970-b6e5-4eb9-9f90-99685103321f');\n",
              "        const dataTable =\n",
              "          await google.colab.kernel.invokeFunction('convertToInteractive',\n",
              "                                                    [key], {});\n",
              "        if (!dataTable) return;\n",
              "\n",
              "        const docLinkHtml = 'Like what you see? Visit the ' +\n",
              "          '<a target=\"_blank\" href=https://colab.research.google.com/notebooks/data_table.ipynb>data table notebook</a>'\n",
              "          + ' to learn more about interactive tables.';\n",
              "        element.innerHTML = '';\n",
              "        dataTable['output_type'] = 'display_data';\n",
              "        await google.colab.output.renderOutput(dataTable, element);\n",
              "        const docLink = document.createElement('div');\n",
              "        docLink.innerHTML = docLinkHtml;\n",
              "        element.appendChild(docLink);\n",
              "      }\n",
              "    </script>\n",
              "  </div>\n",
              "\n",
              "\n",
              "<div id=\"df-4fbfb3bb-31ca-4a38-976d-a337c542153d\">\n",
              "  <button class=\"colab-df-quickchart\" onclick=\"quickchart('df-4fbfb3bb-31ca-4a38-976d-a337c542153d')\"\n",
              "            title=\"Suggest charts\"\n",
              "            style=\"display:none;\">\n",
              "\n",
              "<svg xmlns=\"http://www.w3.org/2000/svg\" height=\"24px\"viewBox=\"0 0 24 24\"\n",
              "     width=\"24px\">\n",
              "    <g>\n",
              "        <path d=\"M19 3H5c-1.1 0-2 .9-2 2v14c0 1.1.9 2 2 2h14c1.1 0 2-.9 2-2V5c0-1.1-.9-2-2-2zM9 17H7v-7h2v7zm4 0h-2V7h2v10zm4 0h-2v-4h2v4z\"/>\n",
              "    </g>\n",
              "</svg>\n",
              "  </button>\n",
              "\n",
              "<style>\n",
              "  .colab-df-quickchart {\n",
              "      --bg-color: #E8F0FE;\n",
              "      --fill-color: #1967D2;\n",
              "      --hover-bg-color: #E2EBFA;\n",
              "      --hover-fill-color: #174EA6;\n",
              "      --disabled-fill-color: #AAA;\n",
              "      --disabled-bg-color: #DDD;\n",
              "  }\n",
              "\n",
              "  [theme=dark] .colab-df-quickchart {\n",
              "      --bg-color: #3B4455;\n",
              "      --fill-color: #D2E3FC;\n",
              "      --hover-bg-color: #434B5C;\n",
              "      --hover-fill-color: #FFFFFF;\n",
              "      --disabled-bg-color: #3B4455;\n",
              "      --disabled-fill-color: #666;\n",
              "  }\n",
              "\n",
              "  .colab-df-quickchart {\n",
              "    background-color: var(--bg-color);\n",
              "    border: none;\n",
              "    border-radius: 50%;\n",
              "    cursor: pointer;\n",
              "    display: none;\n",
              "    fill: var(--fill-color);\n",
              "    height: 32px;\n",
              "    padding: 0;\n",
              "    width: 32px;\n",
              "  }\n",
              "\n",
              "  .colab-df-quickchart:hover {\n",
              "    background-color: var(--hover-bg-color);\n",
              "    box-shadow: 0 1px 2px rgba(60, 64, 67, 0.3), 0 1px 3px 1px rgba(60, 64, 67, 0.15);\n",
              "    fill: var(--button-hover-fill-color);\n",
              "  }\n",
              "\n",
              "  .colab-df-quickchart-complete:disabled,\n",
              "  .colab-df-quickchart-complete:disabled:hover {\n",
              "    background-color: var(--disabled-bg-color);\n",
              "    fill: var(--disabled-fill-color);\n",
              "    box-shadow: none;\n",
              "  }\n",
              "\n",
              "  .colab-df-spinner {\n",
              "    border: 2px solid var(--fill-color);\n",
              "    border-color: transparent;\n",
              "    border-bottom-color: var(--fill-color);\n",
              "    animation:\n",
              "      spin 1s steps(1) infinite;\n",
              "  }\n",
              "\n",
              "  @keyframes spin {\n",
              "    0% {\n",
              "      border-color: transparent;\n",
              "      border-bottom-color: var(--fill-color);\n",
              "      border-left-color: var(--fill-color);\n",
              "    }\n",
              "    20% {\n",
              "      border-color: transparent;\n",
              "      border-left-color: var(--fill-color);\n",
              "      border-top-color: var(--fill-color);\n",
              "    }\n",
              "    30% {\n",
              "      border-color: transparent;\n",
              "      border-left-color: var(--fill-color);\n",
              "      border-top-color: var(--fill-color);\n",
              "      border-right-color: var(--fill-color);\n",
              "    }\n",
              "    40% {\n",
              "      border-color: transparent;\n",
              "      border-right-color: var(--fill-color);\n",
              "      border-top-color: var(--fill-color);\n",
              "    }\n",
              "    60% {\n",
              "      border-color: transparent;\n",
              "      border-right-color: var(--fill-color);\n",
              "    }\n",
              "    80% {\n",
              "      border-color: transparent;\n",
              "      border-right-color: var(--fill-color);\n",
              "      border-bottom-color: var(--fill-color);\n",
              "    }\n",
              "    90% {\n",
              "      border-color: transparent;\n",
              "      border-bottom-color: var(--fill-color);\n",
              "    }\n",
              "  }\n",
              "</style>\n",
              "\n",
              "  <script>\n",
              "    async function quickchart(key) {\n",
              "      const quickchartButtonEl =\n",
              "        document.querySelector('#' + key + ' button');\n",
              "      quickchartButtonEl.disabled = true;  // To prevent multiple clicks.\n",
              "      quickchartButtonEl.classList.add('colab-df-spinner');\n",
              "      try {\n",
              "        const charts = await google.colab.kernel.invokeFunction(\n",
              "            'suggestCharts', [key], {});\n",
              "      } catch (error) {\n",
              "        console.error('Error during call to suggestCharts:', error);\n",
              "      }\n",
              "      quickchartButtonEl.classList.remove('colab-df-spinner');\n",
              "      quickchartButtonEl.classList.add('colab-df-quickchart-complete');\n",
              "    }\n",
              "    (() => {\n",
              "      let quickchartButtonEl =\n",
              "        document.querySelector('#df-4fbfb3bb-31ca-4a38-976d-a337c542153d button');\n",
              "      quickchartButtonEl.style.display =\n",
              "        google.colab.kernel.accessAllowed ? 'block' : 'none';\n",
              "    })();\n",
              "  </script>\n",
              "</div>\n",
              "    </div>\n",
              "  </div>\n"
            ]
          },
          "metadata": {},
          "execution_count": 36
        }
      ]
    },
    {
      "cell_type": "markdown",
      "metadata": {
        "id": "3ua1JMYQExIc"
      },
      "source": [
        "Create vector index on the embeddings table"
      ]
    },
    {
      "cell_type": "code",
      "execution_count": null,
      "metadata": {
        "id": "_336_8GiEc8l",
        "colab": {
          "base_uri": "https://localhost:8080/"
        },
        "executionInfo": {
          "status": "ok",
          "timestamp": 1716835709510,
          "user_tz": -120,
          "elapsed": 50285,
          "user": {
            "displayName": "",
            "userId": ""
          }
        },
        "outputId": "cff00387-8a36-4fb7-c048-f121ed6a897c"
      },
      "outputs": [
        {
          "output_type": "execute_result",
          "data": {
            "text/plain": [
              "<google.cloud.bigquery.table._EmptyRowIterator at 0x7acf01082e00>"
            ]
          },
          "metadata": {},
          "execution_count": 7
        }
      ],
      "source": [
        "client.query(\n",
        "  f\"\"\"CREATE OR REPLACE VECTOR INDEX `{PROJECT_ID}.{DATASET_ID}_local.reviews_index`\n",
        "  ON `{PROJECT_ID}.{DATASET_ID}_local.customer_review_embedded_laurenz`(text_embedding)\n",
        "  OPTIONS(distance_type='COSINE', index_type='IVF');\"\"\"\n",
        ").result()"
      ]
    },
    {
      "cell_type": "markdown",
      "metadata": {
        "id": "czttDTVZE000"
      },
      "source": [
        "Create a procedure to implement a RAG pipeline"
      ]
    },
    {
      "cell_type": "code",
      "execution_count": 45,
      "metadata": {
        "id": "Ho-GZBDyEhoB",
        "colab": {
          "base_uri": "https://localhost:8080/"
        },
        "executionInfo": {
          "status": "ok",
          "timestamp": 1717405962796,
          "user_tz": -120,
          "elapsed": 1793,
          "user": {
            "displayName": "",
            "userId": ""
          }
        },
        "outputId": "06ade871-03e6-4b1b-969b-dabe57258bce"
      },
      "outputs": [
        {
          "output_type": "execute_result",
          "data": {
            "text/plain": [
              "<google.cloud.bigquery.table._EmptyRowIterator at 0x79f777e50400>"
            ]
          },
          "metadata": {},
          "execution_count": 45
        }
      ],
      "source": [
        "client.query(\n",
        "    f\"\"\"\n",
        "    CREATE OR REPLACE PROCEDURE {DATASET_ID}_local.common_themes_by_menu_items(menu_item STRING, OUT themes STRING)\n",
        "    BEGIN\n",
        "    WITH embedding as (\n",
        "      SELECT text_embedding,\n",
        "             content AS query\n",
        "      FROM ML.GENERATE_TEXT_EMBEDDING( MODEL `{PROJECT_ID}.{DATASET_ID}_local.emb_model`,\n",
        "          (\n",
        "          SELECT\n",
        "            CAST(menu_item AS STRING) AS content))\n",
        "    ),\n",
        "\n",
        "    neighbors as (\n",
        "      SELECT *\n",
        "      FROM VECTOR_SEARCH( TABLE `{PROJECT_ID}.{DATASET_ID}_local.customer_review_embedded_laurenz`,\n",
        "        'text_embedding',\n",
        "        (SELECT * FROM embedding),\n",
        "        top_k => 50,\n",
        "        distance_type => 'COSINE'\n",
        "      )\n",
        "    )\n",
        "    SELECT\n",
        "      ml_generate_text_llm_result AS generated\n",
        "    FROM\n",
        "      ML.GENERATE_TEXT(\n",
        "        MODEL `{PROJECT_ID}.{DATASET_ID}_local.llm_model`,\n",
        "        (\n",
        "        SELECT\n",
        "          CONCAT(\n",
        "            'Extract common themes from the following reviews: ',\n",
        "            STRING_AGG(base.content, ';'),\n",
        "            '. Reply in JSON format with the keys: item_name, themes'\n",
        "          ) AS prompt\n",
        "        FROM neighbors\n",
        "        ),\n",
        "        STRUCT(\n",
        "          0.4 AS temperature,\n",
        "          300 AS max_output_tokens,\n",
        "          0.5 AS top_p,\n",
        "          5 AS top_k,\n",
        "          TRUE AS flatten_json_output\n",
        "        )\n",
        "      );\n",
        "    END;\n",
        "\"\"\"\n",
        ").result()"
      ]
    },
    {
      "cell_type": "markdown",
      "metadata": {
        "id": "_kWL7MACFBx9"
      },
      "source": [
        "Executes the procedure"
      ]
    },
    {
      "cell_type": "code",
      "execution_count": 46,
      "metadata": {
        "colab": {
          "base_uri": "https://localhost:8080/"
        },
        "executionInfo": {
          "elapsed": 6138,
          "status": "ok",
          "timestamp": 1717405971496,
          "user": {
            "displayName": "",
            "userId": ""
          },
          "user_tz": -120
        },
        "id": "S5ID5P1BElhf",
        "outputId": "c2956269-2eb7-43b0-ae13-dcfc3df43d17"
      },
      "outputs": [
        {
          "output_type": "stream",
          "name": "stdout",
          "text": [
            "```json\n",
            "{\n",
            "  \"item_name\": \"Location\",\n",
            "  \"themes\": [\n",
            "    \"Good location\",\n",
            "    \"Dirty location\",\n",
            "    \"Noisy location\",\n",
            "    \"Overcrowded location\",\n",
            "    \"Quiet location\",\n",
            "    \"Convenient location\",\n",
            "    \"Cozy location\",\n",
            "    \"Clean location\",\n",
            "    \"Bad location\"\n",
            "  ]\n",
            "}\n",
            "```\n",
            "\n",
            "**Explanation of Themes:**\n",
            "\n",
            "* **Good location:** This theme is mentioned in several positive reviews, highlighting the convenience and accessibility of the location.\n",
            "* **Dirty location:** This theme is a recurring negative aspect, indicating that cleanliness is a major concern for some customers.\n",
            "* **Noisy location:** Several reviews mention the noise level as a negative factor, making it difficult to relax or enjoy the experience.\n",
            "* **Overcrowded location:** Some customers found the location to be too crowded, leading to a lack of seating and a less enjoyable experience.\n",
            "* **Quiet location:** In contrast to the noisy locations, some customers appreciated the peacefulness and tranquility of certain locations.\n",
            "* **Convenient location:** The location's proximity to other amenities or transportation options is mentioned as a positive aspect.\n",
            "* **Cozy location:** Some reviews describe the location as cozy and inviting, creating a comfortable atmosphere.\n",
            "* **Clean location:** When mentioned positively, cleanliness is a key factor in customer satisfaction.\n",
            "* **Bad location:** This general theme encompasses negative aspects such as\n"
          ]
        }
      ],
      "source": [
        "out = client.query(f\"\"\"\n",
        "  DECLARE themes STRING;\n",
        "  CALL {DATASET_ID}_local.common_themes_by_menu_items('location', themes);\n",
        "\"\"\"\n",
        ").result()\n",
        "\n",
        "i = 0\n",
        "for row in next(out):\n",
        "    print(row)\n",
        "    i += 1\n",
        "    if i > 10:\n",
        "        break"
      ]
    },
    {
      "cell_type": "code",
      "source": [],
      "metadata": {
        "id": "DwnHC37lID5u"
      },
      "execution_count": null,
      "outputs": []
    }
  ],
  "metadata": {
    "colab": {
      "cell_execution_strategy": "setup",
      "name": "Common-Themes-RAG-nomagic",
      "provenance": []
    },
    "kernelspec": {
      "display_name": "Python 3 (ipykernel)",
      "language": "python",
      "name": "python3"
    },
    "language_info": {
      "codemirror_mode": {
        "name": "ipython",
        "version": 3
      },
      "file_extension": ".py",
      "mimetype": "text/x-python",
      "name": "python",
      "nbconvert_exporter": "python",
      "pygments_lexer": "ipython3",
      "version": "3.11.1"
    }
  },
  "nbformat": 4,
  "nbformat_minor": 0
}